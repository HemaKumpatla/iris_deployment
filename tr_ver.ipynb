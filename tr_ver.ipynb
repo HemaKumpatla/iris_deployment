{
 "cells": [
  {
   "cell_type": "code",
   "execution_count": 1,
   "id": "0473f5cd",
   "metadata": {},
   "outputs": [
    {
     "name": "stdout",
     "output_type": "stream",
     "text": [
      "Streamlit version: 1.26.0\n",
      "scikit-learn version: 1.0.2\n",
      "joblib version: 1.3.2\n"
     ]
    }
   ],
   "source": [
    "import streamlit as st\n",
    "import pickle\n",
    "from sklearn.feature_extraction.text import TfidfVectorizer\n",
    "import sklearn\n",
    "import joblib\n",
    "\n",
    "# Check the version of Streamlit\n",
    "print(f\"Streamlit version: {st.__version__}\")\n",
    "\n",
    "# Check the version of scikit-learn\n",
    "sklearn_version = sklearn.__version__\n",
    "print(f\"scikit-learn version: {sklearn_version}\")\n",
    "\n",
    "# Check the version of joblib\n",
    "joblib_version = joblib.__version__\n",
    "print(f\"joblib version: {joblib_version}\")\n"
   ]
  },
  {
   "cell_type": "code",
   "execution_count": null,
   "id": "9d10e9ed",
   "metadata": {},
   "outputs": [],
   "source": []
  }
 ],
 "metadata": {
  "kernelspec": {
   "display_name": "Python 3 (ipykernel)",
   "language": "python",
   "name": "python3"
  },
  "language_info": {
   "codemirror_mode": {
    "name": "ipython",
    "version": 3
   },
   "file_extension": ".py",
   "mimetype": "text/x-python",
   "name": "python",
   "nbconvert_exporter": "python",
   "pygments_lexer": "ipython3",
   "version": "3.9.13"
  }
 },
 "nbformat": 4,
 "nbformat_minor": 5
}
